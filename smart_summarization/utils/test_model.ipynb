{
 "cells": [
  {
   "attachments": {},
   "cell_type": "markdown",
   "id": "2ec638d8-03a2-4f52-b324-39e951954948",
   "metadata": {},
   "source": [
    "# Test: Model Version"
   ]
  },
  {
   "cell_type": "code",
   "execution_count": 1,
   "id": "d715dccb-7a8a-46d0-bfb7-de0c17ddc4db",
   "metadata": {},
   "outputs": [],
   "source": [
    "import os\n",
    "import pandas as pd\n",
    "import openai\n",
    "from datetime import datetime"
   ]
  },
  {
   "cell_type": "code",
   "execution_count": 2,
   "id": "66434426-ad25-4026-a777-2b16e1b4eb41",
   "metadata": {},
   "outputs": [],
   "source": [
    "# Set your OpenAI API key\n",
    "openai.api_key = os.getenv(\"OPENAI_API_KEY\")"
   ]
  },
  {
   "cell_type": "markdown",
   "id": "f271a4f2-8f28-46a8-9ded-8350d3b2f44f",
   "metadata": {},
   "source": [
    "## Setup"
   ]
  },
  {
   "cell_type": "code",
   "execution_count": 5,
   "id": "76c4411e-6897-444e-99ce-8d9f82d4eac5",
   "metadata": {},
   "outputs": [],
   "source": [
    "# Modified summary generator function from summarizer_llm.py\n",
    "# accepts a numerical value for temperature\n",
    "def test_generate_llm_summary(data, model_val):\n",
    "    # Prepare prompt with patient data as a string\n",
    "    prompt = \"Summarize this patient data:\\n\" + data.to_string(index=False)\n",
    "    \n",
    "    try:\n",
    "        response = openai.chat.completions.create(\n",
    "            model=model_val, # Only this value changes\n",
    "            messages=[\n",
    "                {\"role\": \"system\", \"content\": \"You are a helpful assistant summarizing patient data.\"},\n",
    "                {\"role\": \"user\", \"content\": prompt}\n",
    "            ],\n",
    "            temperature=0.6,\n",
    "            max_tokens=300\n",
    "        )\n",
    "        summary = response.choices[0].message.content.strip()\n",
    "        return summary\n",
    "    except Exception as e:\n",
    "        return f\"Error generating summary: {str(e)}\""
   ]
  },
  {
   "cell_type": "code",
   "execution_count": 8,
   "id": "5426cab4-b973-4b94-a3d9-ff400111c6d0",
   "metadata": {},
   "outputs": [
    {
     "name": "stdout",
     "output_type": "stream",
     "text": [
      "The patient data for two consecutive days in May 2024 shows the following:\n",
      "\n",
      "- **May 14, 2024**: The patient had a sleep duration of 7.5 hours and a heart rate of 70 beats per minute. The notes indicate that the sleep was normal.\n",
      "\n",
      "- **May 15, 2024**: The patient slept for 8.0 hours with a heart rate of 68 beats per minute. Mild coughing was observed on this day.\n"
     ]
    }
   ],
   "source": [
    "# Run this cell to check output after setting test_model\n",
    "if __name__ == \"__main__\":\n",
    "    # Sample patient data\n",
    "    data = {\n",
    "        'Date': [datetime(2024, 5, 14), datetime(2024, 5, 15)],\n",
    "        'SleepDuration': [7.5, 8.0],\n",
    "        'HeartRate': [70, 68],\n",
    "        'Notes': [\"Normal sleep\", \"Mild coughing observed\"]\n",
    "    }\n",
    "\n",
    "    df = pd.DataFrame(data)\n",
    "    test_model = \"gpt-4o\" # Set model here\n",
    "    summary = test_generate_llm_summary(df, test_model)\n",
    "    print(summary)"
   ]
  },
  {
   "cell_type": "code",
   "execution_count": null,
   "id": "49e4513a-3ecf-49a4-a715-81ba985ed055",
   "metadata": {},
   "outputs": [],
   "source": []
  }
 ],
 "metadata": {
  "kernelspec": {
   "display_name": "Python (py-env-3.12.9)",
   "language": "python",
   "name": "py-env-3.12.9"
  },
  "language_info": {
   "codemirror_mode": {
    "name": "ipython",
    "version": 3
   },
   "file_extension": ".py",
   "mimetype": "text/x-python",
   "name": "python",
   "nbconvert_exporter": "python",
   "pygments_lexer": "ipython3",
   "version": "3.12.9"
  }
 },
 "nbformat": 4,
 "nbformat_minor": 5
}
