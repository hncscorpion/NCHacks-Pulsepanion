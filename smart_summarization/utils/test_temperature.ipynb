{
 "cells": [
  {
   "cell_type": "markdown",
   "id": "2a54db52-dfab-47a0-983b-c0c448476caa",
   "metadata": {},
   "source": [
    "# Test: Temperature"
   ]
  },
  {
   "cell_type": "code",
   "execution_count": 1,
   "id": "8f542990-c58d-41f3-8a3f-36a58ab2da67",
   "metadata": {},
   "outputs": [],
   "source": [
    "# Temperature Testing\n",
    "\n",
    "import os\n",
    "import pandas as pd\n",
    "import openai\n",
    "from datetime import datetime"
   ]
  },
  {
   "cell_type": "code",
   "execution_count": 2,
   "id": "66434426-ad25-4026-a777-2b16e1b4eb41",
   "metadata": {},
   "outputs": [],
   "source": [
    "# Set your OpenAI API key\n",
    "openai.api_key = os.getenv(\"OPENAI_API_KEY\")"
   ]
  },
  {
   "cell_type": "markdown",
   "id": "01103874-36c6-4c05-8227-f72b50f7b0f3",
   "metadata": {},
   "source": [
    "Original Parameter Values\n",
    "\n",
    "- temperature = 0.5\n",
    "- max_tokens = 300\n",
    "\n",
    "See test results in \"test_temperature_output.py\"."
   ]
  },
  {
   "cell_type": "markdown",
   "id": "f271a4f2-8f28-46a8-9ded-8350d3b2f44f",
   "metadata": {},
   "source": [
    "## Setup"
   ]
  },
  {
   "cell_type": "code",
   "execution_count": 3,
   "id": "76c4411e-6897-444e-99ce-8d9f82d4eac5",
   "metadata": {},
   "outputs": [],
   "source": [
    "# Modified summary generator function from summarizer_llm.py\n",
    "# accepts a numerical value for temperature\n",
    "def test_generate_llm_summary(data, temp_val):\n",
    "    # Prepare prompt with patient data as a string\n",
    "    prompt = \"Summarize this patient data:\\n\" + data.to_string(index=False)\n",
    "    \n",
    "    try:\n",
    "        response = openai.chat.completions.create(\n",
    "            model=\"gpt-4o-mini\",\n",
    "            messages=[\n",
    "                {\"role\": \"system\", \"content\": \"You are a helpful assistant summarizing patient data.\"},\n",
    "                {\"role\": \"user\", \"content\": prompt}\n",
    "            ],\n",
    "            temperature=temp_val, # Only this value will be changed changed\n",
    "            max_tokens=300 # Keeping this constant\n",
    "        )\n",
    "        summary = response.choices[0].message.content.strip()\n",
    "        return summary\n",
    "    except Exception as e:\n",
    "        return f\"Error generating summary: {str(e)}\""
   ]
  },
  {
   "cell_type": "code",
   "execution_count": 5,
   "id": "5426cab4-b973-4b94-a3d9-ff400111c6d0",
   "metadata": {},
   "outputs": [
    {
     "name": "stdout",
     "output_type": "stream",
     "text": [
      "The patient data includes two entries:\n",
      "\n",
      "- **May 14, 2024**: The patient had a sleep duration of 7.5 hours with a heart rate of 70 bpm. The note indicates normal sleep.\n",
      "  \n",
      "- **May 15, 2024**: The patient had a sleep duration of 8.0 hours with a heart rate of 68 bpm. Mild coughing was observed on this day. \n",
      "\n",
      "Overall, the patient experienced normal sleep patterns with a slight increase in sleep duration, but also reported mild coughing on the second day.\n"
     ]
    }
   ],
   "source": [
    "# Run this cell to check output after setting tes_temp\n",
    "if __name__ == \"__main__\":\n",
    "    # Sample patient data\n",
    "    data = {\n",
    "        'Date': [datetime(2024, 5, 14), datetime(2024, 5, 15)],\n",
    "        'SleepDuration': [7.5, 8.0],\n",
    "        'HeartRate': [70, 68],\n",
    "        'Notes': [\"Normal sleep\", \"Mild coughing observed\"]\n",
    "    }\n",
    "\n",
    "    df = pd.DataFrame(data)\n",
    "    test_temp = 0.5 # Set temperature here\n",
    "    summary = test_generate_llm_summary(df, test_temp)\n",
    "    print(summary)"
   ]
  },
  {
   "cell_type": "markdown",
   "id": "7cb4dc5e-e3ea-471c-8094-e0d1d3fd3c68",
   "metadata": {},
   "source": []
  },
  {
   "cell_type": "code",
   "execution_count": 9,
   "id": "c51105c7-7b75-455a-bb69-b781b48b1023",
   "metadata": {},
   "outputs": [
    {
     "name": "stdout",
     "output_type": "stream",
     "text": [
      "The patient data includes two entries:\n",
      "\n",
      "1. **Date:** May 14, 2024\n",
      "   - **Sleep Duration:** 7.5 hours\n",
      "   - **Heart Rate:** 70 bpm\n",
      "   - **Notes:** Normal sleep\n",
      "\n",
      "2. **Date:** May 15, 2024\n",
      "   - **Sleep Duration:** 8.0 hours\n",
      "   - **Heart Rate:** 68 bpm\n",
      "   - **Notes:** Mild coughing observed\n",
      "\n",
      "Overall, the patient experienced normal sleep patterns with a slight increase in sleep duration on the second day, but mild coughing was noted. Heart rates were within a normal range.\n"
     ]
    }
   ],
   "source": [
    "if __name__ == \"__main__\":\n",
    "    # Sample patient data\n",
    "    data = {\n",
    "        'Date': [datetime(2024, 5, 14), datetime(2024, 5, 15)],\n",
    "        'SleepDuration': [7.5, 8.0],\n",
    "        'HeartRate': [70, 68],\n",
    "        'Notes': [\"Normal sleep\", \"Mild coughing observed\"]\n",
    "    }\n",
    "\n",
    "    df = pd.DataFrame(data)\n",
    "    \n",
    "    summary = test_generate_llm_summary(df, 0.4)\n",
    "    print(summary)"
   ]
  },
  {
   "cell_type": "code",
   "execution_count": null,
   "id": "ef02f0c1-a1d0-4242-b46c-791fb23f71ec",
   "metadata": {},
   "outputs": [],
   "source": []
  }
 ],
 "metadata": {
  "kernelspec": {
   "display_name": "Python (py-env-3.12.9)",
   "language": "python",
   "name": "py-env-3.12.9"
  },
  "language_info": {
   "codemirror_mode": {
    "name": "ipython",
    "version": 3
   },
   "file_extension": ".py",
   "mimetype": "text/x-python",
   "name": "python",
   "nbconvert_exporter": "python",
   "pygments_lexer": "ipython3",
   "version": "3.12.9"
  }
 },
 "nbformat": 4,
 "nbformat_minor": 5
}
